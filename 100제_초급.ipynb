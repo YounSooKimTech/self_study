{
  "nbformat": 4,
  "nbformat_minor": 0,
  "metadata": {
    "colab": {
      "provenance": [],
      "authorship_tag": "ABX9TyO6UxJI8bv44MKqMf2ILH+G",
      "include_colab_link": true
    },
    "kernelspec": {
      "name": "python3",
      "display_name": "Python 3"
    },
    "language_info": {
      "name": "python"
    }
  },
  "cells": [
    {
      "cell_type": "markdown",
      "metadata": {
        "id": "view-in-github",
        "colab_type": "text"
      },
      "source": [
        "<a href=\"https://colab.research.google.com/github/YounSooKimTech/self_study/blob/main/100%EC%A0%9C_%EC%B4%88%EA%B8%89.ipynb\" target=\"_parent\"><img src=\"https://colab.research.google.com/assets/colab-badge.svg\" alt=\"Open In Colab\"/></a>"
      ]
    },
    {
      "cell_type": "markdown",
      "source": [
        "# 초급 문제"
      ],
      "metadata": {
        "id": "kOUA1tRE97ib"
      }
    },
    {
      "cell_type": "markdown",
      "source": [
        "### Day 1"
      ],
      "metadata": {
        "id": "QF_ND6BVOk5n"
      }
    },
    {
      "cell_type": "code",
      "source": [
        "# change the value for a and b\n",
        "\n",
        "a = input(\"a: \")\n",
        "b = input(\"b: \")\n",
        "\n",
        "temp = a\n",
        "a = b\n",
        "b = temp\n",
        "\n",
        "print(\"a=\", a)\n",
        "print(\"b=\", b)"
      ],
      "metadata": {
        "colab": {
          "base_uri": "https://localhost:8080/"
        },
        "id": "w44uCYtI3h4P",
        "outputId": "8ef3328c-1dae-49b0-d1ac-85d615e1bba7"
      },
      "execution_count": null,
      "outputs": [
        {
          "output_type": "stream",
          "name": "stdout",
          "text": [
            "a: 5\n",
            "b: 100\n",
            "a= 100\n",
            "b= 5\n"
          ]
        }
      ]
    },
    {
      "cell_type": "code",
      "source": [
        "# band name generator exercise\n",
        "# ask user the name of the city that they grew up in\n",
        "# ask user for the name of a pet\n",
        "# combine the city and pet to make band name\n",
        "\n",
        "greeting = \"Welcome to the Band Name Generator\"\n",
        "print(greeting, \"\\n\")\n",
        "\n",
        "city = input(\"Which city you grew up in\")\n",
        "pet_name = input(\"What is the name of a pet?\")\n",
        "\n",
        "band_name = city.capitalize() + \" \" + pet_name.capitalize()\n",
        "print(\"your band name could be \" + band_name)"
      ],
      "metadata": {
        "colab": {
          "base_uri": "https://localhost:8080/"
        },
        "id": "VYrT8Nx_6uyf",
        "outputId": "6421fa62-c2c8-4455-9c10-ef33b7aec78f"
      },
      "execution_count": null,
      "outputs": [
        {
          "output_type": "stream",
          "name": "stdout",
          "text": [
            "Welcome to the Band Name Generator \n",
            "\n",
            "Which city you grew up inseoul\n",
            "What is the name of a pet?cat\n",
            "your band name could be Seoul Cat\n"
          ]
        }
      ]
    },
    {
      "cell_type": "markdown",
      "source": [
        "### Day 2"
      ],
      "metadata": {
        "id": "QU0dTj35Onm2"
      }
    },
    {
      "cell_type": "code",
      "source": [
        "ex_num = str(input(\"Type two digit number\"))\n",
        "a_num = int(ex_num[0])\n",
        "b_num = int(ex_num[-1])\n",
        "\n",
        "print(f\"The sum of two digit number is {a_num+b_num}\")"
      ],
      "metadata": {
        "colab": {
          "base_uri": "https://localhost:8080/"
        },
        "id": "hBCjsfI8PfVe",
        "outputId": "dc70e5de-3f48-45ae-c7a2-70c6fab83ae2"
      },
      "execution_count": null,
      "outputs": [
        {
          "output_type": "stream",
          "name": "stdout",
          "text": [
            "Type two digit number39\n",
            "The sum of two digit number is 12\n"
          ]
        }
      ]
    },
    {
      "cell_type": "code",
      "source": [
        "# Day 2: Tip calculator\n",
        "# $124.56, 12%, 7\n",
        "\n",
        "print(\"Welcome to the tip calculator\")\n",
        "\n",
        "user_input = float(input(\"What was the total bill?: $\"))\n",
        "tip_pct = int(input(\"What percentage tipe would you like to give? 10, 12, or 15?\"))\n",
        "num_ppl = int(input(\"How many people to split the bill?\"))\n",
        "\n",
        "pay = (user_input * (1 + tip_pct/100))/num_ppl\n",
        "pay = round(pay, 2)\n",
        "\n",
        "print(f\"Each person should pay: ${pay}\")"
      ],
      "metadata": {
        "colab": {
          "base_uri": "https://localhost:8080/"
        },
        "id": "o70W2dk2E8f5",
        "outputId": "67e4aac1-2933-4a50-a827-7a5c846c96c4"
      },
      "execution_count": null,
      "outputs": [
        {
          "output_type": "stream",
          "name": "stdout",
          "text": [
            "Welcome to the tip calculator\n",
            "What was the total bill?: 124.56\n",
            "How many people to split the bill?7\n",
            "What percentage tipe would you like to give? 10, 12, or 15?12\n",
            "Each person should pay: $19.93\n"
          ]
        }
      ]
    },
    {
      "cell_type": "code",
      "source": [
        "# f-string vs formatting\n",
        "\n",
        "first_name = \"Corey\"\n",
        "last_name = \"Schafer\"\n",
        "\n",
        "sentence1 = \"My name is {} {}\".format(first_name, last_name)\n",
        "sentence2 = f\"My name is {first_name.upper()} {last_name.capitalize()}\"\n",
        "\n",
        "print(sentence1)\n",
        "print(sentence2)\n",
        "\n",
        "\n",
        "person = {\"name\":\"Jenny\", \"age\":23}\n",
        "sentence3 = \"My name is {} and I'm {} years old\".format(person[\"name\"], person[\"age\"])\n",
        "sentence4 = f\"My name is {person['name']} nad I'm {person['age']} years old\"\n",
        "print(sentence3)\n",
        "print(sentence4)\n",
        "\n",
        "calculation = f'4 times 11 is equal to {4*11}'\n",
        "print(calculation)"
      ],
      "metadata": {
        "id": "Hcqf3X-5NAVa"
      },
      "execution_count": null,
      "outputs": []
    },
    {
      "cell_type": "markdown",
      "source": [
        "# Day 3\n",
        "\n",
        "if~:\n",
        "    do this\n",
        "else:\n",
        "  Do those"
      ],
      "metadata": {
        "id": "MiLgP0KdG7JL"
      }
    },
    {
      "cell_type": "code",
      "source": [
        "# BMI calculator\n",
        "\n",
        "height = float(input(\"Enter your height in cm \"))\n",
        "weight = float(input(\"Enter your weight in kg \"))\n",
        "\n",
        "bmi = weight / height**2\n",
        "\n",
        "if bmi< 18.5:\n",
        "  range = \"Underweight\"\n",
        "elif bmi < 25:\n",
        "  range = \"normal weight\"\n",
        "elif bmi < 30:\n",
        "  range = \"overweight\"\n",
        "elif bmi < 35:\n",
        "  range = \"obese\"\n",
        "else:\n",
        "  range = \"climinally obese\"\n",
        "\n",
        "print(f\"Your bmi is {round(bmi, 2)}. You are {range}\")\n"
      ],
      "metadata": {
        "colab": {
          "base_uri": "https://localhost:8080/"
        },
        "id": "NCYC-E4MeCs_",
        "outputId": "a61c30e9-2c32-471e-e0de-110660fbdd0f"
      },
      "execution_count": null,
      "outputs": [
        {
          "output_type": "stream",
          "name": "stdout",
          "text": [
            "Enter your height in cm 1.75\n",
            "Enter your weight in kg 75\n",
            "Your bmi is 24.49. You are normal weight\n"
          ]
        }
      ]
    },
    {
      "cell_type": "code",
      "source": [
        "# True Love Calculator\n",
        "name1 = \"Angela Yu\"\n",
        "name2 = \"Jack Bauer\"\n",
        "\n",
        "names = name1+name2\n",
        "names = names.lower()\n",
        "\n",
        "t = names.count(\"t\")\n",
        "r = names.count(\"r\")\n",
        "u = names.count(\"u\")\n",
        "e = names.count(\"e\")\n",
        "true_score = t+r+u+e\n",
        "\n",
        "l = names.count(\"l\")\n",
        "o = names.count(\"o\")\n",
        "v = names.count(\"v\")\n",
        "e = names.count(\"e\")\n",
        "love_score = l+o+v+e\n",
        "\n",
        "total_score = int(str(true_score) + str(love_score))\n",
        "your_score = f'Your score is {total_score}'\n",
        "\n",
        "# based on the score, tell the user about the love range\n",
        "if (total_score < 10) | (total_score >90):\n",
        "  print(your_score , 'you go together like coke and mentos')\n",
        "elif (total_score >= 40) & (total_score <= 50):\n",
        "  print(your_score,  \"you are algith together\")\n",
        "else:\n",
        "  print(your_score)"
      ],
      "metadata": {
        "colab": {
          "base_uri": "https://localhost:8080/"
        },
        "id": "vBv-dVN6eXJx",
        "outputId": "e4c9ab6c-8f2e-45d9-ac94-4a7fdb27a0ab"
      },
      "execution_count": null,
      "outputs": [
        {
          "output_type": "stream",
          "name": "stdout",
          "text": [
            "Your score is 53\n"
          ]
        }
      ]
    },
    {
      "cell_type": "markdown",
      "source": [
        "# Day 4: Randomization and List\n"
      ],
      "metadata": {
        "id": "MGBj0SA2njSJ"
      }
    },
    {
      "cell_type": "code",
      "source": [
        "# Coin flip for head or tail\n",
        "# random.random, random.uniform, random.choice\n",
        "\n",
        "import random\n",
        "\n",
        "print(random.uniform(0, 1))\n",
        "print(random.choice([\"H\", \"T\"]))"
      ],
      "metadata": {
        "colab": {
          "base_uri": "https://localhost:8080/"
        },
        "id": "EM6IefBwnnBv",
        "outputId": "6360ac98-ead0-4a0f-dd75-87566083eff9"
      },
      "execution_count": null,
      "outputs": [
        {
          "output_type": "stream",
          "name": "stdout",
          "text": [
            "0.5100728103172015\n",
            "H\n"
          ]
        }
      ]
    },
    {
      "cell_type": "code",
      "source": [
        "number = 31\n",
        "number = str(number)\n",
        "\n",
        "import numpy as np\n",
        "\n",
        "empty_matrix = np.full((3,3), \" \")\n",
        "empty_matrix\n",
        "\n",
        "empty_matrix[int(number[0])-1, int(number[-1])-1] = \"X\"\n",
        "\n",
        "empty_matrix"
      ],
      "metadata": {
        "colab": {
          "base_uri": "https://localhost:8080/"
        },
        "id": "zHV9ccbACcXz",
        "outputId": "d616ac61-347c-4d97-909d-66c5a3c2b8b6"
      },
      "execution_count": null,
      "outputs": [
        {
          "output_type": "execute_result",
          "data": {
            "text/plain": [
              "array([[' ', ' ', ' '],\n",
              "       [' ', ' ', ' '],\n",
              "       ['X', ' ', ' ']], dtype='<U1')"
            ]
          },
          "metadata": {},
          "execution_count": 63
        }
      ]
    },
    {
      "cell_type": "code",
      "source": [
        "import random\n",
        "\n",
        "# rock = 0; paper = 1; scissors = 2\n",
        "com_choice = random.randint(0,2)\n",
        "com_choice\n",
        "\n",
        "my_choice = int(input(\"What do you choose? Type 0 for Rock, 1 for paper, and 2 for scissors\"))\n",
        "\n",
        "print(f\"my_choice is {my_choice} and computer's choice is {com_choice}\")\n",
        "\n",
        "if my_choice not in range(0,3):\n",
        "  print(\"You typed wrong number\")\n",
        "elif my_choice == com_choice:\n",
        "  print(\"It's a draw\")\n",
        "elif (my_choice==1) & (com_choice == 0):\n",
        "  print(\"You win\")\n",
        "elif (my_choice ==0) & (com_choice ==2):\n",
        "  print(\"You win\")\n",
        "elif  (my_choice ==2) & (com_choice ==1):\n",
        "  print(\"You win\")\n",
        "else:\n",
        "  print(\"You loose\")\n"
      ],
      "metadata": {
        "colab": {
          "base_uri": "https://localhost:8080/"
        },
        "id": "YRk-CoctFQtx",
        "outputId": "cb6ddd88-53d4-4b3f-e552-e8f55244c381"
      },
      "execution_count": null,
      "outputs": [
        {
          "output_type": "stream",
          "name": "stdout",
          "text": [
            "What do you choose? Type 0 for Rock, 1 for paper, and 2 for scissors-1\n",
            "my_choice is -1 and computer's choice is 1\n",
            "You typed wrong number\n"
          ]
        }
      ]
    },
    {
      "cell_type": "markdown",
      "source": [
        "# Day 5"
      ],
      "metadata": {
        "id": "GiNnC98Lh1Kh"
      }
    },
    {
      "cell_type": "code",
      "source": [
        "# password generator\n",
        "\n",
        "n_letters = 12\n",
        "n_symbols = 2\n",
        "n_numbers = 2\n",
        "\n",
        "import string\n",
        "import random\n",
        "\n",
        "nums = random.sample(string.digits, n_numbers)\n",
        "letters = random.sample(string.ascii_letters, n_letters)\n",
        "punc = random.sample(string.punctuation, n_symbols)\n",
        "\n",
        "pwd = nums+letters+punc\n",
        "random.shuffle(pwd)\n",
        "pwd = \"\".join(pwd)\n",
        "print(pwd)"
      ],
      "metadata": {
        "colab": {
          "base_uri": "https://localhost:8080/"
        },
        "id": "bz9GJrjBh2x3",
        "outputId": "84d9902e-3044-401c-ef5c-7ca031f9e0d5"
      },
      "execution_count": 47,
      "outputs": [
        {
          "output_type": "stream",
          "name": "stdout",
          "text": [
            "whIl7>4YduDJEoH*\n"
          ]
        }
      ]
    },
    {
      "cell_type": "code",
      "source": [
        "fruits = [\"apple\", \"peach\", \"pear\"]\n",
        "\n",
        "for fruit in fruits:\n",
        "  print(fruit)"
      ],
      "metadata": {
        "colab": {
          "base_uri": "https://localhost:8080/"
        },
        "id": "atSWA1_ml5kR",
        "outputId": "231f4097-c31a-4846-b9ba-197de51d3c4d"
      },
      "execution_count": 48,
      "outputs": [
        {
          "output_type": "stream",
          "name": "stdout",
          "text": [
            "apple\n",
            "peach\n",
            "pear\n"
          ]
        }
      ]
    }
  ]
}